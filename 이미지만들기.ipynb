{
 "cells": [
  {
   "cell_type": "code",
   "execution_count": 1,
   "id": "3e78ed9f-f8c7-4db9-9bfc-cb47c98bf8fb",
   "metadata": {},
   "outputs": [
    {
     "ename": "NameError",
     "evalue": "name 'Image' is not defined",
     "output_type": "error",
     "traceback": [
      "\u001b[0;31m---------------------------------------------------------------------------\u001b[0m",
      "\u001b[0;31mNameError\u001b[0m                                 Traceback (most recent call last)",
      "Cell \u001b[0;32mIn[1], line 5\u001b[0m\n\u001b[1;32m      2\u001b[0m image_path \u001b[38;5;241m=\u001b[39m \u001b[38;5;124m\"\u001b[39m\u001b[38;5;124m/mnt/data/위즈 한국시리즈 우승.jpeg\u001b[39m\u001b[38;5;124m\"\u001b[39m\n\u001b[1;32m      4\u001b[0m \u001b[38;5;66;03m# Load the image\u001b[39;00m\n\u001b[0;32m----> 5\u001b[0m image \u001b[38;5;241m=\u001b[39m Image\u001b[38;5;241m.\u001b[39mopen(image_path)\n\u001b[1;32m      7\u001b[0m \u001b[38;5;66;03m# Define the text to be changed and the new text\u001b[39;00m\n\u001b[1;32m      8\u001b[0m old_text \u001b[38;5;241m=\u001b[39m \u001b[38;5;124m\"\u001b[39m\u001b[38;5;124m2022\u001b[39m\u001b[38;5;124m\"\u001b[39m\n",
      "\u001b[0;31mNameError\u001b[0m: name 'Image' is not defined"
     ]
    }
   ],
   "source": [
    "# Correct file path based on the listing\n",
    "image_path = \"/mnt/data/위즈 한국시리즈 우승.jpeg\"\n",
    "\n",
    "# Load the image\n",
    "image = Image.open(image_path)\n",
    "\n",
    "# Define the text to be changed and the new text\n",
    "old_text = \"2022\"\n",
    "new_text = \"2024\"\n",
    "\n",
    "# Define the position and font size for the new text\n",
    "position = (930, 150)  # Adjusted for the exact position\n",
    "font_size = 80\n",
    "\n",
    "# Load a font\n",
    "font_path = \"/usr/share/fonts/truetype/dejavu/DejaVuSans-Bold.ttf\"\n",
    "font = ImageFont.truetype(font_path, font_size)\n",
    "\n",
    "# Create a drawing context\n",
    "draw = ImageDraw.Draw(image)\n",
    "\n",
    "# Measure the size of the old text and the new text\n",
    "old_text_size = draw.textsize(old_text, font=font)\n",
    "new_text_size = draw.textsize(new_text, font=font)\n",
    "\n",
    "# Calculate the position for the new text to overwrite the old text\n",
    "text_x = position[0] + (old_text_size[0] - new_text_size[0]) // 2\n",
    "text_y = position[1] + (old_text_size[1] - new_text_size[1]) // 2\n",
    "\n",
    "# Draw a rectangle over the old text (to \"erase\" it)\n",
    "draw.rectangle([position, (position[0] + old_text_size[0], position[1] + old_text_size[1])], fill=\"blue\")\n",
    "\n",
    "# Draw the new text\n",
    "draw.text((text_x, text_y), new_text, font=font, fill=\"white\")\n",
    "\n",
    "# Save the modified image\n",
    "modified_image_path = \"/mnt/data/위즈_한국시리즈_우승_2024.jpeg\"\n",
    "image.save(modified_image_path)\n",
    "\n",
    "# Return the path of the modified image\n",
    "modified_image_path"
   ]
  }
 ],
 "metadata": {
  "kernelspec": {
   "display_name": "Python 3 (ipykernel)",
   "language": "python",
   "name": "python3"
  },
  "language_info": {
   "codemirror_mode": {
    "name": "ipython",
    "version": 3
   },
   "file_extension": ".py",
   "mimetype": "text/x-python",
   "name": "python",
   "nbconvert_exporter": "python",
   "pygments_lexer": "ipython3",
   "version": "3.11.5"
  }
 },
 "nbformat": 4,
 "nbformat_minor": 5
}
